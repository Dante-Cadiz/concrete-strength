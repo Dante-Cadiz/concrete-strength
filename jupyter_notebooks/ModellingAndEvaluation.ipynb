{
 "cells": [
  {
   "attachments": {},
   "cell_type": "markdown",
   "metadata": {},
   "source": [
    "# Modelling and Evaluation\n",
    "\n",
    "### Inputs\n",
    "- Train set engineered CSV\n",
    "\n",
    "### Outputs\n",
    "\n",
    "### Objectives\n",
    "\n",
    "- Select best hyperparameters and algorithm\n",
    "- Predict CSmpA of concrete via regression"
   ]
  },
  {
   "cell_type": "code",
   "execution_count": 1,
   "metadata": {},
   "outputs": [
    {
     "data": {
      "text/plain": [
       "'/workspace/concrete-strength/jupyter_notebooks'"
      ]
     },
     "execution_count": 1,
     "metadata": {},
     "output_type": "execute_result"
    }
   ],
   "source": [
    "import os\n",
    "current_dir = os.getcwd()\n",
    "current_dir\n"
   ]
  },
  {
   "cell_type": "code",
   "execution_count": 2,
   "metadata": {},
   "outputs": [
    {
     "name": "stdout",
     "output_type": "stream",
     "text": [
      "You set a new current directory\n"
     ]
    }
   ],
   "source": [
    "os.chdir(os.path.dirname(current_dir))\n",
    "print(\"You set a new current directory\")"
   ]
  },
  {
   "cell_type": "code",
   "execution_count": 3,
   "metadata": {},
   "outputs": [
    {
     "data": {
      "text/plain": [
       "'/workspace/concrete-strength'"
      ]
     },
     "execution_count": 3,
     "metadata": {},
     "output_type": "execute_result"
    }
   ],
   "source": [
    "current_dir = os.getcwd()\n",
    "current_dir"
   ]
  },
  {
   "attachments": {},
   "cell_type": "markdown",
   "metadata": {},
   "source": [
    "Load data"
   ]
  },
  {
   "cell_type": "code",
   "execution_count": 5,
   "metadata": {},
   "outputs": [
    {
     "name": "stdout",
     "output_type": "stream",
     "text": [
      "(824, 7)\n"
     ]
    },
    {
     "data": {
      "text/html": [
       "<div>\n",
       "<style scoped>\n",
       "    .dataframe tbody tr th:only-of-type {\n",
       "        vertical-align: middle;\n",
       "    }\n",
       "\n",
       "    .dataframe tbody tr th {\n",
       "        vertical-align: top;\n",
       "    }\n",
       "\n",
       "    .dataframe thead th {\n",
       "        text-align: right;\n",
       "    }\n",
       "</style>\n",
       "<table border=\"1\" class=\"dataframe\">\n",
       "  <thead>\n",
       "    <tr style=\"text-align: right;\">\n",
       "      <th></th>\n",
       "      <th>cement</th>\n",
       "      <th>slag</th>\n",
       "      <th>flyash</th>\n",
       "      <th>water</th>\n",
       "      <th>coarseaggregate</th>\n",
       "      <th>fineaggregate</th>\n",
       "      <th>age</th>\n",
       "    </tr>\n",
       "  </thead>\n",
       "  <tbody>\n",
       "    <tr>\n",
       "      <th>0</th>\n",
       "      <td>10.083308</td>\n",
       "      <td>0.698912</td>\n",
       "      <td>1.000000</td>\n",
       "      <td>119.308050</td>\n",
       "      <td>1859.591102</td>\n",
       "      <td>74065.950376</td>\n",
       "      <td>3.461989</td>\n",
       "    </tr>\n",
       "    <tr>\n",
       "      <th>1</th>\n",
       "      <td>9.483185</td>\n",
       "      <td>0.698912</td>\n",
       "      <td>1.000000</td>\n",
       "      <td>115.999523</td>\n",
       "      <td>2086.779165</td>\n",
       "      <td>80994.570422</td>\n",
       "      <td>3.461989</td>\n",
       "    </tr>\n",
       "    <tr>\n",
       "      <th>2</th>\n",
       "      <td>8.987288</td>\n",
       "      <td>5.260016</td>\n",
       "      <td>1.000000</td>\n",
       "      <td>131.071191</td>\n",
       "      <td>1770.160564</td>\n",
       "      <td>74341.507912</td>\n",
       "      <td>3.461989</td>\n",
       "    </tr>\n",
       "    <tr>\n",
       "      <th>3</th>\n",
       "      <td>8.557683</td>\n",
       "      <td>0.698912</td>\n",
       "      <td>0.008382</td>\n",
       "      <td>117.379509</td>\n",
       "      <td>2065.282127</td>\n",
       "      <td>80937.293504</td>\n",
       "      <td>1.402170</td>\n",
       "    </tr>\n",
       "    <tr>\n",
       "      <th>4</th>\n",
       "      <td>10.184724</td>\n",
       "      <td>0.698912</td>\n",
       "      <td>1.000000</td>\n",
       "      <td>123.701476</td>\n",
       "      <td>2282.625099</td>\n",
       "      <td>55427.133259</td>\n",
       "      <td>4.681869</td>\n",
       "    </tr>\n",
       "  </tbody>\n",
       "</table>\n",
       "</div>"
      ],
      "text/plain": [
       "      cement      slag    flyash       water  coarseaggregate  fineaggregate  \\\n",
       "0  10.083308  0.698912  1.000000  119.308050      1859.591102   74065.950376   \n",
       "1   9.483185  0.698912  1.000000  115.999523      2086.779165   80994.570422   \n",
       "2   8.987288  5.260016  1.000000  131.071191      1770.160564   74341.507912   \n",
       "3   8.557683  0.698912  0.008382  117.379509      2065.282127   80937.293504   \n",
       "4  10.184724  0.698912  1.000000  123.701476      2282.625099   55427.133259   \n",
       "\n",
       "        age  \n",
       "0  3.461989  \n",
       "1  3.461989  \n",
       "2  3.461989  \n",
       "3  1.402170  \n",
       "4  4.681869  "
      ]
     },
     "execution_count": 5,
     "metadata": {},
     "output_type": "execute_result"
    }
   ],
   "source": [
    "import numpy as np\n",
    "import pandas as pd\n",
    "df = (pd.read_csv(\"outputs/datasets/cleaned/TrainSetEngineered.csv\"))\n",
    "print(df.shape)\n",
    "df.head()"
   ]
  },
  {
   "attachments": {},
   "cell_type": "markdown",
   "metadata": {},
   "source": [
    "Create pipeline"
   ]
  },
  {
   "cell_type": "code",
   "execution_count": 7,
   "metadata": {},
   "outputs": [],
   "source": [
    "from sklearn.pipeline import Pipeline\n",
    "from sklearn.preprocessing import StandardScaler\n",
    "from sklearn.feature_selection import SelectFromModel\n",
    "from sklearn.tree import DecisionTreeRegressor\n",
    "from xgboost import XGBRegressor\n",
    "from sklearn.ensemble import GradientBoostingRegressor, RandomForestRegressor\n",
    "from sklearn.linear_model import LinearRegression\n",
    "from sklearn.ensemble import AdaBoostRegressor\n",
    "from sklearn.ensemble import ExtraTreesRegressor\n",
    "\n",
    "def PipelineOptimization(model):\n",
    "    pipeline_base = Pipeline([ (\"feat_scaling\", StandardScaler()),\n",
    "\n",
    "        (\"feat_selection\",  SelectFromModel(model)),\n",
    "\n",
    "        (\"model\", model)])\n",
    "    \n",
    "    return pipeline_base"
   ]
  }
 ],
 "metadata": {
  "kernelspec": {
   "display_name": "Python 3",
   "language": "python",
   "name": "python3"
  },
  "language_info": {
   "codemirror_mode": {
    "name": "ipython",
    "version": 3
   },
   "file_extension": ".py",
   "mimetype": "text/x-python",
   "name": "python",
   "nbconvert_exporter": "python",
   "pygments_lexer": "ipython3",
   "version": "3.8.13"
  },
  "orig_nbformat": 4,
  "vscode": {
   "interpreter": {
    "hash": "9ac03a0a6051494cc606d484d27d20fce22fb7b4d169f583271e11d5ba46a56e"
   }
  }
 },
 "nbformat": 4,
 "nbformat_minor": 2
}
