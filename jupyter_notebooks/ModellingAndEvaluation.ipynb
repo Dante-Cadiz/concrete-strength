{
 "cells": [
  {
   "attachments": {},
   "cell_type": "markdown",
   "metadata": {},
   "source": [
    "# Modelling and Evaluation\n",
    "\n",
    "### Inputs\n",
    "- Train set engineered CSV\n",
    "\n",
    "### Outputs\n",
    "\n",
    "### Objectives\n",
    "\n",
    "- Select best hyperparameters and algorithm\n",
    "- Predict CSmpA of concrete via regression"
   ]
  },
  {
   "cell_type": "code",
   "execution_count": 1,
   "metadata": {},
   "outputs": [
    {
     "data": {
      "text/plain": [
       "'/workspace/concrete-strength/jupyter_notebooks'"
      ]
     },
     "execution_count": 1,
     "metadata": {},
     "output_type": "execute_result"
    }
   ],
   "source": [
    "import os\n",
    "current_dir = os.getcwd()\n",
    "current_dir\n"
   ]
  },
  {
   "cell_type": "code",
   "execution_count": 2,
   "metadata": {},
   "outputs": [
    {
     "name": "stdout",
     "output_type": "stream",
     "text": [
      "You set a new current directory\n"
     ]
    }
   ],
   "source": [
    "os.chdir(os.path.dirname(current_dir))\n",
    "print(\"You set a new current directory\")"
   ]
  },
  {
   "cell_type": "code",
   "execution_count": 3,
   "metadata": {},
   "outputs": [
    {
     "data": {
      "text/plain": [
       "'/workspace/concrete-strength'"
      ]
     },
     "execution_count": 3,
     "metadata": {},
     "output_type": "execute_result"
    }
   ],
   "source": [
    "current_dir = os.getcwd()\n",
    "current_dir"
   ]
  },
  {
   "attachments": {},
   "cell_type": "markdown",
   "metadata": {},
   "source": [
    "Load data"
   ]
  },
  {
   "cell_type": "code",
   "execution_count": 14,
   "metadata": {},
   "outputs": [
    {
     "name": "stdout",
     "output_type": "stream",
     "text": [
      "(1030, 8)\n"
     ]
    },
    {
     "data": {
      "text/html": [
       "<div>\n",
       "<style scoped>\n",
       "    .dataframe tbody tr th:only-of-type {\n",
       "        vertical-align: middle;\n",
       "    }\n",
       "\n",
       "    .dataframe tbody tr th {\n",
       "        vertical-align: top;\n",
       "    }\n",
       "\n",
       "    .dataframe thead th {\n",
       "        text-align: right;\n",
       "    }\n",
       "</style>\n",
       "<table border=\"1\" class=\"dataframe\">\n",
       "  <thead>\n",
       "    <tr style=\"text-align: right;\">\n",
       "      <th></th>\n",
       "      <th>cement</th>\n",
       "      <th>slag</th>\n",
       "      <th>flyash</th>\n",
       "      <th>water</th>\n",
       "      <th>coarseaggregate</th>\n",
       "      <th>fineaggregate</th>\n",
       "      <th>age</th>\n",
       "      <th>csMPa</th>\n",
       "    </tr>\n",
       "  </thead>\n",
       "  <tbody>\n",
       "    <tr>\n",
       "      <th>0</th>\n",
       "      <td>11.138686</td>\n",
       "      <td>0.692662</td>\n",
       "      <td>1.0</td>\n",
       "      <td>74.797774</td>\n",
       "      <td>2269.592565</td>\n",
       "      <td>83874.646831</td>\n",
       "      <td>3.377358</td>\n",
       "      <td>79.99</td>\n",
       "    </tr>\n",
       "    <tr>\n",
       "      <th>1</th>\n",
       "      <td>11.138686</td>\n",
       "      <td>0.692662</td>\n",
       "      <td>1.0</td>\n",
       "      <td>74.797774</td>\n",
       "      <td>2306.547918</td>\n",
       "      <td>83874.646831</td>\n",
       "      <td>3.377358</td>\n",
       "      <td>61.89</td>\n",
       "    </tr>\n",
       "    <tr>\n",
       "      <th>2</th>\n",
       "      <td>9.813326</td>\n",
       "      <td>4.948381</td>\n",
       "      <td>1.0</td>\n",
       "      <td>98.669830</td>\n",
       "      <td>2005.603189</td>\n",
       "      <td>66232.900982</td>\n",
       "      <td>5.630006</td>\n",
       "      <td>40.27</td>\n",
       "    </tr>\n",
       "    <tr>\n",
       "      <th>3</th>\n",
       "      <td>9.813326</td>\n",
       "      <td>4.948381</td>\n",
       "      <td>1.0</td>\n",
       "      <td>98.669830</td>\n",
       "      <td>2005.603189</td>\n",
       "      <td>66232.900982</td>\n",
       "      <td>5.933598</td>\n",
       "      <td>41.05</td>\n",
       "    </tr>\n",
       "    <tr>\n",
       "      <th>4</th>\n",
       "      <td>8.520842</td>\n",
       "      <td>4.876641</td>\n",
       "      <td>1.0</td>\n",
       "      <td>85.841906</td>\n",
       "      <td>2118.561303</td>\n",
       "      <td>120826.246384</td>\n",
       "      <td>5.919698</td>\n",
       "      <td>44.30</td>\n",
       "    </tr>\n",
       "  </tbody>\n",
       "</table>\n",
       "</div>"
      ],
      "text/plain": [
       "      cement      slag  flyash      water  coarseaggregate  fineaggregate  \\\n",
       "0  11.138686  0.692662     1.0  74.797774      2269.592565   83874.646831   \n",
       "1  11.138686  0.692662     1.0  74.797774      2306.547918   83874.646831   \n",
       "2   9.813326  4.948381     1.0  98.669830      2005.603189   66232.900982   \n",
       "3   9.813326  4.948381     1.0  98.669830      2005.603189   66232.900982   \n",
       "4   8.520842  4.876641     1.0  85.841906      2118.561303  120826.246384   \n",
       "\n",
       "        age  csMPa  \n",
       "0  3.377358  79.99  \n",
       "1  3.377358  61.89  \n",
       "2  5.630006  40.27  \n",
       "3  5.933598  41.05  \n",
       "4  5.919698  44.30  "
      ]
     },
     "execution_count": 14,
     "metadata": {},
     "output_type": "execute_result"
    }
   ],
   "source": [
    "import numpy as np\n",
    "import pandas as pd\n",
    "df = (pd.read_csv(\"outputs/datasets/cleaned/DatasetEngineered.csv\"))\n",
    "print(df.shape)\n",
    "df.head()"
   ]
  },
  {
   "cell_type": "code",
   "execution_count": 15,
   "metadata": {},
   "outputs": [],
   "source": [
    "from sklearn.model_selection import train_test_split\n",
    "X_train, X_test, y_train, y_test = train_test_split(df.drop(['csMPa'], axis=1), df['csMPa'], test_size = 0.20, random_state = 37)"
   ]
  },
  {
   "cell_type": "code",
   "execution_count": 17,
   "metadata": {},
   "outputs": [
    {
     "data": {
      "text/html": [
       "<div>\n",
       "<style scoped>\n",
       "    .dataframe tbody tr th:only-of-type {\n",
       "        vertical-align: middle;\n",
       "    }\n",
       "\n",
       "    .dataframe tbody tr th {\n",
       "        vertical-align: top;\n",
       "    }\n",
       "\n",
       "    .dataframe thead th {\n",
       "        text-align: right;\n",
       "    }\n",
       "</style>\n",
       "<table border=\"1\" class=\"dataframe\">\n",
       "  <thead>\n",
       "    <tr style=\"text-align: right;\">\n",
       "      <th></th>\n",
       "      <th>cement</th>\n",
       "      <th>slag</th>\n",
       "      <th>flyash</th>\n",
       "      <th>water</th>\n",
       "      <th>coarseaggregate</th>\n",
       "      <th>fineaggregate</th>\n",
       "      <th>age</th>\n",
       "    </tr>\n",
       "  </thead>\n",
       "  <tbody>\n",
       "    <tr>\n",
       "      <th>328</th>\n",
       "      <td>9.106729</td>\n",
       "      <td>0.692662</td>\n",
       "      <td>0.010020</td>\n",
       "      <td>68.864920</td>\n",
       "      <td>2141.530685</td>\n",
       "      <td>138351.338204</td>\n",
       "      <td>4.634036</td>\n",
       "    </tr>\n",
       "    <tr>\n",
       "      <th>209</th>\n",
       "      <td>8.877286</td>\n",
       "      <td>0.692662</td>\n",
       "      <td>0.008382</td>\n",
       "      <td>87.108031</td>\n",
       "      <td>2243.518943</td>\n",
       "      <td>103536.132378</td>\n",
       "      <td>1.387998</td>\n",
       "    </tr>\n",
       "    <tr>\n",
       "      <th>291</th>\n",
       "      <td>8.313184</td>\n",
       "      <td>3.839427</td>\n",
       "      <td>0.008130</td>\n",
       "      <td>77.852517</td>\n",
       "      <td>2317.401100</td>\n",
       "      <td>109113.656387</td>\n",
       "      <td>3.377358</td>\n",
       "    </tr>\n",
       "    <tr>\n",
       "      <th>32</th>\n",
       "      <td>8.520842</td>\n",
       "      <td>4.876641</td>\n",
       "      <td>1.000000</td>\n",
       "      <td>85.841906</td>\n",
       "      <td>2118.561303</td>\n",
       "      <td>120826.246384</td>\n",
       "      <td>5.222505</td>\n",
       "    </tr>\n",
       "    <tr>\n",
       "      <th>792</th>\n",
       "      <td>9.940810</td>\n",
       "      <td>0.692662</td>\n",
       "      <td>1.000000</td>\n",
       "      <td>85.841906</td>\n",
       "      <td>2286.829875</td>\n",
       "      <td>115661.505742</td>\n",
       "      <td>5.919698</td>\n",
       "    </tr>\n",
       "  </tbody>\n",
       "</table>\n",
       "</div>"
      ],
      "text/plain": [
       "       cement      slag    flyash      water  coarseaggregate  fineaggregate  \\\n",
       "328  9.106729  0.692662  0.010020  68.864920      2141.530685  138351.338204   \n",
       "209  8.877286  0.692662  0.008382  87.108031      2243.518943  103536.132378   \n",
       "291  8.313184  3.839427  0.008130  77.852517      2317.401100  109113.656387   \n",
       "32   8.520842  4.876641  1.000000  85.841906      2118.561303  120826.246384   \n",
       "792  9.940810  0.692662  1.000000  85.841906      2286.829875  115661.505742   \n",
       "\n",
       "          age  \n",
       "328  4.634036  \n",
       "209  1.387998  \n",
       "291  3.377358  \n",
       "32   5.222505  \n",
       "792  5.919698  "
      ]
     },
     "execution_count": 17,
     "metadata": {},
     "output_type": "execute_result"
    }
   ],
   "source": [
    "X_train.dtypes\n",
    "X_train.head()"
   ]
  },
  {
   "attachments": {},
   "cell_type": "markdown",
   "metadata": {},
   "source": [
    "Create pipeline"
   ]
  },
  {
   "cell_type": "code",
   "execution_count": 18,
   "metadata": {},
   "outputs": [],
   "source": [
    "from sklearn.pipeline import Pipeline\n",
    "from sklearn.preprocessing import StandardScaler\n",
    "from sklearn.feature_selection import SelectFromModel\n",
    "from sklearn.tree import DecisionTreeRegressor\n",
    "from xgboost import XGBRegressor\n",
    "from sklearn.ensemble import GradientBoostingRegressor, RandomForestRegressor\n",
    "from sklearn.linear_model import LinearRegression\n",
    "from sklearn.ensemble import AdaBoostRegressor\n",
    "from sklearn.ensemble import ExtraTreesRegressor\n",
    "\n",
    "def PipelineOptimization(model):\n",
    "    pipeline_base = Pipeline([ (\"feat_scaling\", StandardScaler()),\n",
    "\n",
    "        (\"feat_selection\",  SelectFromModel(model)),\n",
    "\n",
    "        (\"model\", model)])\n",
    "    \n",
    "    return pipeline_base"
   ]
  },
  {
   "attachments": {},
   "cell_type": "markdown",
   "metadata": {},
   "source": [
    "Hyperparameter optimisation search"
   ]
  },
  {
   "cell_type": "code",
   "execution_count": 19,
   "metadata": {},
   "outputs": [],
   "source": [
    "from sklearn.model_selection import GridSearchCV\n",
    "\n",
    "class HyperparameterOptimizationSearch:\n",
    "\n",
    "    def __init__(self, models, params):\n",
    "        self.models = models\n",
    "        self.params = params\n",
    "        self.keys = models.keys()\n",
    "        self.grid_searches = {}\n",
    "\n",
    "    def fit(self, X, y, cv, n_jobs, verbose=1, scoring=None, refit=False):\n",
    "        for key in self.keys:\n",
    "            print(f\"\\nRunning GridSearchCV for {key} \\n\")\n",
    "            model = PipelineOptimization(self.models[key])\n",
    "\n",
    "            params = self.params[key]\n",
    "            gs = GridSearchCV(model, params, cv=cv, n_jobs=n_jobs,\n",
    "                              verbose=verbose, scoring=scoring)\n",
    "            gs.fit(X, y)\n",
    "            self.grid_searches[key] = gs\n",
    "\n",
    "    def score_summary(self, sort_by='mean_score'):\n",
    "        def row(key, scores, params):\n",
    "            d = {\n",
    "                'estimator': key,\n",
    "                'min_score': min(scores),\n",
    "                'max_score': max(scores),\n",
    "                'mean_score': np.mean(scores),\n",
    "                'std_score': np.std(scores),\n",
    "            }\n",
    "            return pd.Series({**params, **d})\n",
    "\n",
    "        rows = []\n",
    "        for k in self.grid_searches:\n",
    "            params = self.grid_searches[k].cv_results_['params']\n",
    "            scores = []\n",
    "            for i in range(self.grid_searches[k].cv):\n",
    "                key = \"split{}_test_score\".format(i)\n",
    "                r = self.grid_searches[k].cv_results_[key]\n",
    "                scores.append(r.reshape(len(params), 1))\n",
    "            \n",
    "            all_scores = np.hstack(scores)\n",
    "            for p, s in zip(params, all_scores):\n",
    "                rows.append((row(k, s, p)))\n",
    "\n",
    "        df = pd.concat(rows, axis=1).T.sort_values([sort_by], ascending=False)\n",
    "\n",
    "        columns = ['estimator', 'min_score',\n",
    "                   'mean_score', 'max_score', 'std_score']\n",
    "        columns = columns + [c for c in df.columns if c not in columns]\n",
    "\n",
    "        return df[columns], self.grid_searches"
   ]
  },
  {
   "cell_type": "code",
   "execution_count": 20,
   "metadata": {},
   "outputs": [],
   "source": [
    "models_quick_search = {\n",
    "    'LinearRegression': LinearRegression(),\n",
    "    \"DecisionTreeRegressor\": DecisionTreeRegressor(random_state=0),\n",
    "    \"RandomForestRegressor\": RandomForestRegressor(random_state=0),\n",
    "    \"ExtraTreesRegressor\": ExtraTreesRegressor(random_state=0),\n",
    "    \"AdaBoostRegressor\": AdaBoostRegressor(random_state=0),\n",
    "    \"GradientBoostingRegressor\": GradientBoostingRegressor(random_state=0),\n",
    "    \"XGBRegressor\": XGBRegressor(random_state=0),\n",
    "}\n",
    "\n",
    "params_quick_search = {\n",
    "    'LinearRegression': {},\n",
    "    \"DecisionTreeRegressor\": {},\n",
    "    \"RandomForestRegressor\": {},\n",
    "    \"ExtraTreesRegressor\": {},\n",
    "    \"AdaBoostRegressor\": {},\n",
    "    \"GradientBoostingRegressor\": {},\n",
    "    \"XGBRegressor\": {},\n",
    "}"
   ]
  },
  {
   "cell_type": "code",
   "execution_count": 21,
   "metadata": {},
   "outputs": [
    {
     "name": "stdout",
     "output_type": "stream",
     "text": [
      "\n",
      "Running GridSearchCV for LinearRegression \n",
      "\n",
      "Fitting 5 folds for each of 1 candidates, totalling 5 fits\n",
      "\n",
      "Running GridSearchCV for DecisionTreeRegressor \n",
      "\n",
      "Fitting 5 folds for each of 1 candidates, totalling 5 fits\n",
      "\n",
      "Running GridSearchCV for RandomForestRegressor \n",
      "\n",
      "Fitting 5 folds for each of 1 candidates, totalling 5 fits\n",
      "\n",
      "Running GridSearchCV for ExtraTreesRegressor \n",
      "\n",
      "Fitting 5 folds for each of 1 candidates, totalling 5 fits\n",
      "\n",
      "Running GridSearchCV for AdaBoostRegressor \n",
      "\n",
      "Fitting 5 folds for each of 1 candidates, totalling 5 fits\n",
      "\n",
      "Running GridSearchCV for GradientBoostingRegressor \n",
      "\n",
      "Fitting 5 folds for each of 1 candidates, totalling 5 fits\n",
      "\n",
      "Running GridSearchCV for XGBRegressor \n",
      "\n",
      "Fitting 5 folds for each of 1 candidates, totalling 5 fits\n"
     ]
    }
   ],
   "source": [
    "search = HyperparameterOptimizationSearch(models=models_quick_search, params=params_quick_search)\n",
    "search.fit(X_train, y_train, scoring='r2', n_jobs=-1, cv=5)"
   ]
  },
  {
   "cell_type": "code",
   "execution_count": 22,
   "metadata": {},
   "outputs": [
    {
     "data": {
      "text/html": [
       "<div>\n",
       "<style scoped>\n",
       "    .dataframe tbody tr th:only-of-type {\n",
       "        vertical-align: middle;\n",
       "    }\n",
       "\n",
       "    .dataframe tbody tr th {\n",
       "        vertical-align: top;\n",
       "    }\n",
       "\n",
       "    .dataframe thead th {\n",
       "        text-align: right;\n",
       "    }\n",
       "</style>\n",
       "<table border=\"1\" class=\"dataframe\">\n",
       "  <thead>\n",
       "    <tr style=\"text-align: right;\">\n",
       "      <th></th>\n",
       "      <th>estimator</th>\n",
       "      <th>min_score</th>\n",
       "      <th>mean_score</th>\n",
       "      <th>max_score</th>\n",
       "      <th>std_score</th>\n",
       "    </tr>\n",
       "  </thead>\n",
       "  <tbody>\n",
       "    <tr>\n",
       "      <th>6</th>\n",
       "      <td>XGBRegressor</td>\n",
       "      <td>0.894199</td>\n",
       "      <td>0.911207</td>\n",
       "      <td>0.927696</td>\n",
       "      <td>0.013076</td>\n",
       "    </tr>\n",
       "    <tr>\n",
       "      <th>0</th>\n",
       "      <td>LinearRegression</td>\n",
       "      <td>0.755679</td>\n",
       "      <td>0.780126</td>\n",
       "      <td>0.798832</td>\n",
       "      <td>0.014315</td>\n",
       "    </tr>\n",
       "    <tr>\n",
       "      <th>5</th>\n",
       "      <td>GradientBoostingRegressor</td>\n",
       "      <td>0.649859</td>\n",
       "      <td>0.763181</td>\n",
       "      <td>0.838872</td>\n",
       "      <td>0.071774</td>\n",
       "    </tr>\n",
       "    <tr>\n",
       "      <th>4</th>\n",
       "      <td>AdaBoostRegressor</td>\n",
       "      <td>0.60591</td>\n",
       "      <td>0.709654</td>\n",
       "      <td>0.759523</td>\n",
       "      <td>0.055824</td>\n",
       "    </tr>\n",
       "    <tr>\n",
       "      <th>2</th>\n",
       "      <td>RandomForestRegressor</td>\n",
       "      <td>0.602454</td>\n",
       "      <td>0.664094</td>\n",
       "      <td>0.727387</td>\n",
       "      <td>0.041525</td>\n",
       "    </tr>\n",
       "    <tr>\n",
       "      <th>3</th>\n",
       "      <td>ExtraTreesRegressor</td>\n",
       "      <td>0.53379</td>\n",
       "      <td>0.610182</td>\n",
       "      <td>0.679237</td>\n",
       "      <td>0.047197</td>\n",
       "    </tr>\n",
       "    <tr>\n",
       "      <th>1</th>\n",
       "      <td>DecisionTreeRegressor</td>\n",
       "      <td>0.489564</td>\n",
       "      <td>0.54953</td>\n",
       "      <td>0.651809</td>\n",
       "      <td>0.065836</td>\n",
       "    </tr>\n",
       "  </tbody>\n",
       "</table>\n",
       "</div>"
      ],
      "text/plain": [
       "                   estimator min_score mean_score max_score std_score\n",
       "6               XGBRegressor  0.894199   0.911207  0.927696  0.013076\n",
       "0           LinearRegression  0.755679   0.780126  0.798832  0.014315\n",
       "5  GradientBoostingRegressor  0.649859   0.763181  0.838872  0.071774\n",
       "4          AdaBoostRegressor   0.60591   0.709654  0.759523  0.055824\n",
       "2      RandomForestRegressor  0.602454   0.664094  0.727387  0.041525\n",
       "3        ExtraTreesRegressor   0.53379   0.610182  0.679237  0.047197\n",
       "1      DecisionTreeRegressor  0.489564    0.54953  0.651809  0.065836"
      ]
     },
     "execution_count": 22,
     "metadata": {},
     "output_type": "execute_result"
    }
   ],
   "source": [
    "grid_search_summary, grid_search_pipelines = search.score_summary(sort_by='mean_score')\n",
    "grid_search_summary"
   ]
  },
  {
   "attachments": {},
   "cell_type": "markdown",
   "metadata": {},
   "source": [
    "Extensive search on most suitable model - https://www.kaggle.com/code/prashant111/a-guide-on-xgboost-hyperparameters-tuning/notebook"
   ]
  },
  {
   "cell_type": "code",
   "execution_count": 23,
   "metadata": {},
   "outputs": [],
   "source": [
    "models_search = {\n",
    "    \"XGBRegressor\": XGBRegressor(random_state=0)\n",
    "}\n",
    "\n",
    "params_search = {\n",
    "    \"XGBRegressor\": {\n",
    "        #'min_child_weight': [1, 5, 10],\n",
    "        #'gamma': [0.5, 1, 1.5, 2, 5],\n",
    "        #'subsample': [0.6, 0.8, 1.0],\n",
    "        #'colsample_bytree': [0.6, 0.8, 1.0],\n",
    "        #'max_depth': [3, 4, 5],\n",
    "        'model__learning_rate': [0.01, 0.05, 0.1],\n",
    "        'model__n_estimators': [100, 500, 1000]\n",
    "    }\n",
    "}"
   ]
  },
  {
   "cell_type": "code",
   "execution_count": 25,
   "metadata": {},
   "outputs": [
    {
     "name": "stdout",
     "output_type": "stream",
     "text": [
      "\n",
      "Running GridSearchCV for XGBRegressor \n",
      "\n",
      "Fitting 5 folds for each of 9 candidates, totalling 45 fits\n"
     ]
    }
   ],
   "source": [
    "search = HyperparameterOptimizationSearch(models=models_search, params=params_search)\n",
    "search.fit(X_train, y_train, scoring='r2', n_jobs=-1, cv=5)"
   ]
  },
  {
   "cell_type": "code",
   "execution_count": 26,
   "metadata": {},
   "outputs": [
    {
     "data": {
      "text/html": [
       "<div>\n",
       "<style scoped>\n",
       "    .dataframe tbody tr th:only-of-type {\n",
       "        vertical-align: middle;\n",
       "    }\n",
       "\n",
       "    .dataframe tbody tr th {\n",
       "        vertical-align: top;\n",
       "    }\n",
       "\n",
       "    .dataframe thead th {\n",
       "        text-align: right;\n",
       "    }\n",
       "</style>\n",
       "<table border=\"1\" class=\"dataframe\">\n",
       "  <thead>\n",
       "    <tr style=\"text-align: right;\">\n",
       "      <th></th>\n",
       "      <th>estimator</th>\n",
       "      <th>min_score</th>\n",
       "      <th>mean_score</th>\n",
       "      <th>max_score</th>\n",
       "      <th>std_score</th>\n",
       "      <th>model__learning_rate</th>\n",
       "      <th>model__n_estimators</th>\n",
       "    </tr>\n",
       "  </thead>\n",
       "  <tbody>\n",
       "    <tr>\n",
       "      <th>7</th>\n",
       "      <td>XGBRegressor</td>\n",
       "      <td>0.899619</td>\n",
       "      <td>0.916563</td>\n",
       "      <td>0.930889</td>\n",
       "      <td>0.012</td>\n",
       "      <td>0.1</td>\n",
       "      <td>500</td>\n",
       "    </tr>\n",
       "    <tr>\n",
       "      <th>8</th>\n",
       "      <td>XGBRegressor</td>\n",
       "      <td>0.899363</td>\n",
       "      <td>0.916459</td>\n",
       "      <td>0.930375</td>\n",
       "      <td>0.011825</td>\n",
       "      <td>0.1</td>\n",
       "      <td>1000</td>\n",
       "    </tr>\n",
       "    <tr>\n",
       "      <th>5</th>\n",
       "      <td>XGBRegressor</td>\n",
       "      <td>0.896418</td>\n",
       "      <td>0.912947</td>\n",
       "      <td>0.929101</td>\n",
       "      <td>0.01223</td>\n",
       "      <td>0.05</td>\n",
       "      <td>1000</td>\n",
       "    </tr>\n",
       "    <tr>\n",
       "      <th>4</th>\n",
       "      <td>XGBRegressor</td>\n",
       "      <td>0.897797</td>\n",
       "      <td>0.912331</td>\n",
       "      <td>0.929615</td>\n",
       "      <td>0.012284</td>\n",
       "      <td>0.05</td>\n",
       "      <td>500</td>\n",
       "    </tr>\n",
       "    <tr>\n",
       "      <th>6</th>\n",
       "      <td>XGBRegressor</td>\n",
       "      <td>0.895844</td>\n",
       "      <td>0.908717</td>\n",
       "      <td>0.925709</td>\n",
       "      <td>0.011599</td>\n",
       "      <td>0.1</td>\n",
       "      <td>100</td>\n",
       "    </tr>\n",
       "    <tr>\n",
       "      <th>2</th>\n",
       "      <td>XGBRegressor</td>\n",
       "      <td>0.892552</td>\n",
       "      <td>0.906929</td>\n",
       "      <td>0.925345</td>\n",
       "      <td>0.012157</td>\n",
       "      <td>0.01</td>\n",
       "      <td>1000</td>\n",
       "    </tr>\n",
       "    <tr>\n",
       "      <th>3</th>\n",
       "      <td>XGBRegressor</td>\n",
       "      <td>0.879779</td>\n",
       "      <td>0.892973</td>\n",
       "      <td>0.910943</td>\n",
       "      <td>0.011494</td>\n",
       "      <td>0.05</td>\n",
       "      <td>100</td>\n",
       "    </tr>\n",
       "    <tr>\n",
       "      <th>1</th>\n",
       "      <td>XGBRegressor</td>\n",
       "      <td>0.878416</td>\n",
       "      <td>0.892863</td>\n",
       "      <td>0.910824</td>\n",
       "      <td>0.011592</td>\n",
       "      <td>0.01</td>\n",
       "      <td>500</td>\n",
       "    </tr>\n",
       "    <tr>\n",
       "      <th>0</th>\n",
       "      <td>XGBRegressor</td>\n",
       "      <td>0.026985</td>\n",
       "      <td>0.046721</td>\n",
       "      <td>0.079861</td>\n",
       "      <td>0.01814</td>\n",
       "      <td>0.01</td>\n",
       "      <td>100</td>\n",
       "    </tr>\n",
       "  </tbody>\n",
       "</table>\n",
       "</div>"
      ],
      "text/plain": [
       "      estimator min_score mean_score max_score std_score model__learning_rate  \\\n",
       "7  XGBRegressor  0.899619   0.916563  0.930889     0.012                  0.1   \n",
       "8  XGBRegressor  0.899363   0.916459  0.930375  0.011825                  0.1   \n",
       "5  XGBRegressor  0.896418   0.912947  0.929101   0.01223                 0.05   \n",
       "4  XGBRegressor  0.897797   0.912331  0.929615  0.012284                 0.05   \n",
       "6  XGBRegressor  0.895844   0.908717  0.925709  0.011599                  0.1   \n",
       "2  XGBRegressor  0.892552   0.906929  0.925345  0.012157                 0.01   \n",
       "3  XGBRegressor  0.879779   0.892973  0.910943  0.011494                 0.05   \n",
       "1  XGBRegressor  0.878416   0.892863  0.910824  0.011592                 0.01   \n",
       "0  XGBRegressor  0.026985   0.046721  0.079861   0.01814                 0.01   \n",
       "\n",
       "  model__n_estimators  \n",
       "7                 500  \n",
       "8                1000  \n",
       "5                1000  \n",
       "4                 500  \n",
       "6                 100  \n",
       "2                1000  \n",
       "3                 100  \n",
       "1                 500  \n",
       "0                 100  "
      ]
     },
     "execution_count": 26,
     "metadata": {},
     "output_type": "execute_result"
    }
   ],
   "source": [
    "grid_search_summary, grid_search_pipelines = search.score_summary(sort_by='mean_score')\n",
    "grid_search_summary"
   ]
  },
  {
   "attachments": {},
   "cell_type": "markdown",
   "metadata": {},
   "source": [
    "Best params for mean R2 Score"
   ]
  },
  {
   "cell_type": "code",
   "execution_count": 27,
   "metadata": {},
   "outputs": [],
   "source": [
    "params_search = {'XGBRegressor': {\n",
    "    'model__learning_rate': [0.1],\n",
    "    'model__n_estimators': [500]\n",
    "}}"
   ]
  },
  {
   "attachments": {},
   "cell_type": "markdown",
   "metadata": {},
   "source": [
    "Fit model with best parameters"
   ]
  },
  {
   "cell_type": "code",
   "execution_count": 28,
   "metadata": {},
   "outputs": [],
   "source": [
    "xgbr = XGBRegressor(learning_rate=0.05, n_estimators=1000, verbosity=1)\n",
    "pipeline_xgbr = PipelineOptimization(xgbr)"
   ]
  },
  {
   "cell_type": "code",
   "execution_count": 29,
   "metadata": {},
   "outputs": [
    {
     "data": {
      "text/plain": [
       "Pipeline(steps=[('feat_scaling', StandardScaler()),\n",
       "                ('feat_selection',\n",
       "                 SelectFromModel(estimator=XGBRegressor(base_score=0.5,\n",
       "                                                        booster='gbtree',\n",
       "                                                        callbacks=None,\n",
       "                                                        colsample_bylevel=1,\n",
       "                                                        colsample_bynode=1,\n",
       "                                                        colsample_bytree=1,\n",
       "                                                        early_stopping_rounds=None,\n",
       "                                                        enable_categorical=False,\n",
       "                                                        eval_metric=None,\n",
       "                                                        feature_types=None,\n",
       "                                                        gamma=0, gpu_id=-1,\n",
       "                                                        grow_policy='depthwise',\n",
       "                                                        importan...\n",
       "                              feature_types=None, gamma=0, gpu_id=-1,\n",
       "                              grow_policy='depthwise', importance_type=None,\n",
       "                              interaction_constraints='', learning_rate=0.05,\n",
       "                              max_bin=256, max_cat_threshold=64,\n",
       "                              max_cat_to_onehot=4, max_delta_step=0,\n",
       "                              max_depth=6, max_leaves=0, min_child_weight=1,\n",
       "                              missing=nan, monotone_constraints='()',\n",
       "                              n_estimators=1000, n_jobs=0, num_parallel_tree=1,\n",
       "                              predictor='auto', random_state=0, ...))])"
      ]
     },
     "execution_count": 29,
     "metadata": {},
     "output_type": "execute_result"
    }
   ],
   "source": [
    "pipeline_xgbr.fit(X_train, y_train)"
   ]
  },
  {
   "cell_type": "code",
   "execution_count": 31,
   "metadata": {},
   "outputs": [
    {
     "name": "stdout",
     "output_type": "stream",
     "text": [
      "Training score:  0.9932028222325382\n"
     ]
    }
   ],
   "source": [
    "score = pipeline_xgbr.score(X_train, y_train)\n",
    "print(\"Training score: \", score)"
   ]
  },
  {
   "attachments": {},
   "cell_type": "markdown",
   "metadata": {},
   "source": [
    "5-Fold and K-Fold Cross validation"
   ]
  },
  {
   "cell_type": "code",
   "execution_count": 33,
   "metadata": {},
   "outputs": [
    {
     "name": "stdout",
     "output_type": "stream",
     "text": [
      "Mean cross-validation score: 0.88\n",
      "K-fold CV average score: 0.92\n"
     ]
    }
   ],
   "source": [
    "from sklearn.model_selection import cross_val_score, KFold\n",
    "scores = cross_val_score(pipeline_xgbr, X_train, y_train, cv=5)\n",
    "print(\"Mean cross-validation score: %.2f\" % scores.mean())\n",
    "\n",
    "kfold = KFold(n_splits=10, shuffle=True)\n",
    "kf_cv_scores = cross_val_score(pipeline_xgbr, X_train, y_train, cv=kfold )\n",
    "print(\"K-fold CV average score: %.2f\" % kf_cv_scores.mean())"
   ]
  },
  {
   "cell_type": "code",
   "execution_count": 21,
   "metadata": {},
   "outputs": [
    {
     "ename": "NotFittedError",
     "evalue": "This StandardScaler instance is not fitted yet. Call 'fit' with appropriate arguments before using this estimator.",
     "output_type": "error",
     "traceback": [
      "\u001b[0;31m---------------------------------------------------------------------------\u001b[0m",
      "\u001b[0;31mNotFittedError\u001b[0m                            Traceback (most recent call last)",
      "Cell \u001b[0;32mIn [21], line 1\u001b[0m\n\u001b[0;32m----> 1\u001b[0m pipeline_xgbr\u001b[39m.\u001b[39mpredict(test_features)\n",
      "File \u001b[0;32m/workspace/.pyenv_mirror/user/current/lib/python3.8/site-packages/sklearn/utils/metaestimators.py:113\u001b[0m, in \u001b[0;36m_AvailableIfDescriptor.__get__.<locals>.<lambda>\u001b[0;34m(*args, **kwargs)\u001b[0m\n\u001b[1;32m    110\u001b[0m         \u001b[39mraise\u001b[39;00m attr_err\n\u001b[1;32m    112\u001b[0m     \u001b[39m# lambda, but not partial, allows help() to work with update_wrapper\u001b[39;00m\n\u001b[0;32m--> 113\u001b[0m     out \u001b[39m=\u001b[39m \u001b[39mlambda\u001b[39;00m \u001b[39m*\u001b[39margs, \u001b[39m*\u001b[39m\u001b[39m*\u001b[39mkwargs: \u001b[39mself\u001b[39;49m\u001b[39m.\u001b[39;49mfn(obj, \u001b[39m*\u001b[39;49margs, \u001b[39m*\u001b[39;49m\u001b[39m*\u001b[39;49mkwargs)  \u001b[39m# noqa\u001b[39;00m\n\u001b[1;32m    114\u001b[0m \u001b[39melse\u001b[39;00m:\n\u001b[1;32m    116\u001b[0m     \u001b[39mdef\u001b[39;00m \u001b[39mfn\u001b[39m(\u001b[39m*\u001b[39margs, \u001b[39m*\u001b[39m\u001b[39m*\u001b[39mkwargs):\n",
      "File \u001b[0;32m/workspace/.pyenv_mirror/user/current/lib/python3.8/site-packages/sklearn/pipeline.py:469\u001b[0m, in \u001b[0;36mPipeline.predict\u001b[0;34m(self, X, **predict_params)\u001b[0m\n\u001b[1;32m    467\u001b[0m Xt \u001b[39m=\u001b[39m X\n\u001b[1;32m    468\u001b[0m \u001b[39mfor\u001b[39;00m _, name, transform \u001b[39min\u001b[39;00m \u001b[39mself\u001b[39m\u001b[39m.\u001b[39m_iter(with_final\u001b[39m=\u001b[39m\u001b[39mFalse\u001b[39;00m):\n\u001b[0;32m--> 469\u001b[0m     Xt \u001b[39m=\u001b[39m transform\u001b[39m.\u001b[39;49mtransform(Xt)\n\u001b[1;32m    470\u001b[0m \u001b[39mreturn\u001b[39;00m \u001b[39mself\u001b[39m\u001b[39m.\u001b[39msteps[\u001b[39m-\u001b[39m\u001b[39m1\u001b[39m][\u001b[39m1\u001b[39m]\u001b[39m.\u001b[39mpredict(Xt, \u001b[39m*\u001b[39m\u001b[39m*\u001b[39mpredict_params)\n",
      "File \u001b[0;32m/workspace/.pyenv_mirror/user/current/lib/python3.8/site-packages/sklearn/preprocessing/_data.py:970\u001b[0m, in \u001b[0;36mStandardScaler.transform\u001b[0;34m(self, X, copy)\u001b[0m\n\u001b[1;32m    955\u001b[0m \u001b[39mdef\u001b[39;00m \u001b[39mtransform\u001b[39m(\u001b[39mself\u001b[39m, X, copy\u001b[39m=\u001b[39m\u001b[39mNone\u001b[39;00m):\n\u001b[1;32m    956\u001b[0m     \u001b[39m\"\"\"Perform standardization by centering and scaling.\u001b[39;00m\n\u001b[1;32m    957\u001b[0m \n\u001b[1;32m    958\u001b[0m \u001b[39m    Parameters\u001b[39;00m\n\u001b[0;32m   (...)\u001b[0m\n\u001b[1;32m    968\u001b[0m \u001b[39m        Transformed array.\u001b[39;00m\n\u001b[1;32m    969\u001b[0m \u001b[39m    \"\"\"\u001b[39;00m\n\u001b[0;32m--> 970\u001b[0m     check_is_fitted(\u001b[39mself\u001b[39;49m)\n\u001b[1;32m    972\u001b[0m     copy \u001b[39m=\u001b[39m copy \u001b[39mif\u001b[39;00m copy \u001b[39mis\u001b[39;00m \u001b[39mnot\u001b[39;00m \u001b[39mNone\u001b[39;00m \u001b[39melse\u001b[39;00m \u001b[39mself\u001b[39m\u001b[39m.\u001b[39mcopy\n\u001b[1;32m    973\u001b[0m     X \u001b[39m=\u001b[39m \u001b[39mself\u001b[39m\u001b[39m.\u001b[39m_validate_data(\n\u001b[1;32m    974\u001b[0m         X,\n\u001b[1;32m    975\u001b[0m         reset\u001b[39m=\u001b[39m\u001b[39mFalse\u001b[39;00m,\n\u001b[0;32m   (...)\u001b[0m\n\u001b[1;32m    980\u001b[0m         force_all_finite\u001b[39m=\u001b[39m\u001b[39m\"\u001b[39m\u001b[39mallow-nan\u001b[39m\u001b[39m\"\u001b[39m,\n\u001b[1;32m    981\u001b[0m     )\n",
      "File \u001b[0;32m/workspace/.pyenv_mirror/user/current/lib/python3.8/site-packages/sklearn/utils/validation.py:1222\u001b[0m, in \u001b[0;36mcheck_is_fitted\u001b[0;34m(estimator, attributes, msg, all_or_any)\u001b[0m\n\u001b[1;32m   1217\u001b[0m     fitted \u001b[39m=\u001b[39m [\n\u001b[1;32m   1218\u001b[0m         v \u001b[39mfor\u001b[39;00m v \u001b[39min\u001b[39;00m \u001b[39mvars\u001b[39m(estimator) \u001b[39mif\u001b[39;00m v\u001b[39m.\u001b[39mendswith(\u001b[39m\"\u001b[39m\u001b[39m_\u001b[39m\u001b[39m\"\u001b[39m) \u001b[39mand\u001b[39;00m \u001b[39mnot\u001b[39;00m v\u001b[39m.\u001b[39mstartswith(\u001b[39m\"\u001b[39m\u001b[39m__\u001b[39m\u001b[39m\"\u001b[39m)\n\u001b[1;32m   1219\u001b[0m     ]\n\u001b[1;32m   1221\u001b[0m \u001b[39mif\u001b[39;00m \u001b[39mnot\u001b[39;00m fitted:\n\u001b[0;32m-> 1222\u001b[0m     \u001b[39mraise\u001b[39;00m NotFittedError(msg \u001b[39m%\u001b[39m {\u001b[39m\"\u001b[39m\u001b[39mname\u001b[39m\u001b[39m\"\u001b[39m: \u001b[39mtype\u001b[39m(estimator)\u001b[39m.\u001b[39m\u001b[39m__name__\u001b[39m})\n",
      "\u001b[0;31mNotFittedError\u001b[0m: This StandardScaler instance is not fitted yet. Call 'fit' with appropriate arguments before using this estimator."
     ]
    }
   ],
   "source": []
  },
  {
   "cell_type": "code",
   "execution_count": 26,
   "metadata": {},
   "outputs": [
    {
     "data": {
      "text/plain": [
       "0      26.06\n",
       "1      10.35\n",
       "2      79.30\n",
       "3      74.99\n",
       "4       9.69\n",
       "       ...  \n",
       "201    27.53\n",
       "202    33.76\n",
       "203    33.01\n",
       "204    33.72\n",
       "205    13.82\n",
       "Name: csMPa, Length: 206, dtype: float64"
      ]
     },
     "execution_count": 26,
     "metadata": {},
     "output_type": "execute_result"
    }
   ],
   "source": [
    "test_target"
   ]
  },
  {
   "cell_type": "code",
   "execution_count": 35,
   "metadata": {},
   "outputs": [
    {
     "data": {
      "text/plain": [
       "array([39.791874 , 28.880054 , 46.753452 , 38.49021  , 46.14561  ,\n",
       "       33.908855 , 37.72208  , 54.1251   , 27.770594 , 25.527077 ,\n",
       "       62.335064 , 42.56269  , 38.052025 , 16.772724 , 32.193142 ,\n",
       "       44.659138 , 10.814329 , 28.71086  , 37.672127 , 20.747593 ,\n",
       "       66.25688  ,  6.8244557, 61.47373  , 46.70098  , 23.686335 ,\n",
       "       79.2818   , 61.99543  , 22.921988 , 43.545197 , 50.146194 ,\n",
       "       37.12577  , 24.102062 , 14.115099 , 30.456453 , 16.498222 ,\n",
       "       42.68169  , 13.761599 , 31.832699 , 33.52483  , 55.26794  ,\n",
       "       12.436802 , 32.61577  , 25.234888 ,  2.272539 , 36.76353  ,\n",
       "       12.223426 , 35.273903 , 56.73928  , 39.48408  , 18.798868 ,\n",
       "       34.034653 , 40.00967  , 43.238167 , 43.89158  , 15.036641 ,\n",
       "       48.46349  , 65.007095 , 53.630173 , 40.855854 , 55.01884  ,\n",
       "       13.363162 , 35.097366 , 17.675898 , 35.470146 , 21.089275 ,\n",
       "       31.755848 , 13.780099 , 27.944054 , 38.176315 , 44.786762 ,\n",
       "       42.143806 , 30.891882 , 51.463623 , 40.861526 , 56.34943  ,\n",
       "       36.530296 , 24.880745 , 40.76932  ,  9.322086 , 33.419415 ,\n",
       "       43.85146  , 62.049854 , 36.40293  , 57.554855 , 66.97539  ,\n",
       "       18.887012 , 40.93568  , 45.016876 , 25.117983 , 18.481354 ,\n",
       "       28.700815 , 48.46349  , 15.531805 , 35.290695 , 41.582447 ,\n",
       "       20.857609 , 33.188614 , 44.366673 , 12.755296 , 41.831528 ,\n",
       "       15.277378 , 32.55134  , 41.59292  , 23.717928 , 46.935356 ,\n",
       "       51.47766  , 45.334698 , 22.944513 , 36.475067 , 51.333115 ,\n",
       "       34.78623  , 34.78793  , 53.95451  , 33.624516 , 13.2540045,\n",
       "       38.756813 , 22.606966 , 37.83414  , 30.752834 ,  8.049014 ,\n",
       "       40.755024 , 51.680332 ,  9.90167  , 24.504963 , 33.105167 ,\n",
       "       22.761393 , 43.539913 , 23.33375  , 73.38588  , 41.28844  ,\n",
       "       33.216938 , 22.228428 , 11.202888 , 24.831768 , 30.573324 ,\n",
       "       49.91398  , 53.36784  , 62.249344 , 58.26458  , 26.942125 ,\n",
       "       40.551624 , 23.281649 , 47.339993 , 39.353405 , 41.562386 ,\n",
       "       42.776688 , 27.944054 , 39.36471  , 38.809113 , 36.921772 ,\n",
       "       41.02301  , 62.371307 , 27.121363 , 23.144766 , 38.66149  ,\n",
       "       44.232735 , 61.68665  , 44.038895 , 35.708584 , 68.59772  ,\n",
       "       10.704051 , 20.143215 , 77.39609  ,  9.646354 , 29.269    ,\n",
       "       16.268805 , 51.84852  , 15.609751 , 25.716896 , 24.307064 ,\n",
       "       39.000557 , 50.90898  , 18.169706 , 40.092457 , 49.362217 ,\n",
       "       25.280758 , 29.414331 , 49.64379  , 21.918585 , 38.12954  ,\n",
       "       24.496141 , 65.00545  , 46.70098  , 33.03299  , 39.0092   ,\n",
       "       39.353405 , 19.580336 , 36.821995 , 64.2451   , 49.067547 ,\n",
       "       22.68484  , 70.009895 , 35.68186  , 46.3462   , 30.988205 ,\n",
       "       36.32346  , 10.214935 , 49.42132  , 33.167843 , 22.043379 ,\n",
       "       21.268244 , 26.89783  , 17.386166 , 11.6728   , 42.367844 ,\n",
       "       21.089275 ], dtype=float32)"
      ]
     },
     "execution_count": 35,
     "metadata": {},
     "output_type": "execute_result"
    }
   ],
   "source": [
    "pipeline_xgbr.predict(X_test)"
   ]
  },
  {
   "cell_type": "code",
   "execution_count": 37,
   "metadata": {},
   "outputs": [
    {
     "data": {
      "text/plain": [
       "[<matplotlib.lines.Line2D at 0x7f881e1bf7c0>]"
      ]
     },
     "execution_count": 37,
     "metadata": {},
     "output_type": "execute_result"
    },
    {
     "data": {
      "image/png": "[encoded data removed]",
      "text/plain": [
       "<Figure size 640x480 with 1 Axes>"
      ]
     },
     "metadata": {},
     "output_type": "display_data"
    }
   ],
   "source": [
    "import matplotlib.pyplot as plt\n",
    "import seaborn as sns\n",
    "plt.plot(y_test, pipeline_xgbr.predict(X_test), 'o', color='green')\n",
    "m, b = np.polyfit(y_test, pipeline_xgbr.predict(X_test), 1)\n",
    "plt.plot(y_test, m*y_test+b, color='red')"
   ]
  },
  {
   "cell_type": "code",
   "execution_count": 39,
   "metadata": {},
   "outputs": [
    {
     "data": {
      "text/plain": [
       "0.9085554734316416"
      ]
     },
     "execution_count": 39,
     "metadata": {},
     "output_type": "execute_result"
    }
   ],
   "source": [
    "from sklearn import metrics\n",
    "metrics.r2_score(y_test, pipeline_xgbr.predict(X_test))"
   ]
  },
  {
   "cell_type": "code",
   "execution_count": 9,
   "metadata": {},
   "outputs": [
    {
     "name": "stdout",
     "output_type": "stream",
     "text": [
      "[Errno 17] File exists: 'outputs/ml_pipeline/v1'\n"
     ]
    }
   ],
   "source": [
    "import joblib\n",
    "import os\n",
    "version = 'v1'\n",
    "file_path = f'outputs/ml_pipeline/{version}'\n",
    "\n",
    "try:\n",
    "    os.makedirs(name=file_path)\n",
    "except Exception as e:\n",
    "    print(e)"
   ]
  },
  {
   "cell_type": "code",
   "execution_count": 17,
   "metadata": {},
   "outputs": [
    {
     "data": {
      "text/plain": [
       "['outputs/ml_pipeline/v1/regression_model.pkl']"
      ]
     },
     "execution_count": 17,
     "metadata": {},
     "output_type": "execute_result"
    }
   ],
   "source": [
    "\n",
    "joblib.dump(value=pipeline_xgbr, \n",
    "filename=f'{file_path}/regression_model.pkl')"
   ]
  },
  {
   "cell_type": "code",
   "execution_count": 16,
   "metadata": {},
   "outputs": [],
   "source": [
    "import pickle\n",
    "PFILE = f'{file_path}/regression_model.pkl'\n",
    "def read_from_pickle(p):\n",
    "      with open(p, 'rb') as f:\n",
    "        yield pickle.load(f)\n"
   ]
  },
  {
   "cell_type": "code",
   "execution_count": 18,
   "metadata": {},
   "outputs": [],
   "source": [
    "regressor_model = read_from_pickle(PFILE)"
   ]
  },
  {
   "cell_type": "code",
   "execution_count": 19,
   "metadata": {},
   "outputs": [
    {
     "ename": "AttributeError",
     "evalue": "'generator' object has no attribute 'predict'",
     "output_type": "error",
     "traceback": [
      "\u001b[0;31m---------------------------------------------------------------------------\u001b[0m",
      "\u001b[0;31mAttributeError\u001b[0m                            Traceback (most recent call last)",
      "Cell \u001b[0;32mIn [19], line 1\u001b[0m\n\u001b[0;32m----> 1\u001b[0m regressor_model\u001b[39m.\u001b[39mpredict(test_features)\n",
      "\u001b[0;31mAttributeError\u001b[0m: 'generator' object has no attribute 'predict'"
     ]
    }
   ],
   "source": [
    "regressor_model.predict(test_features)"
   ]
  }
 ],
 "metadata": {
  "kernelspec": {
   "display_name": "Python 3",
   "language": "python",
   "name": "python3"
  },
  "language_info": {
   "codemirror_mode": {
    "name": "ipython",
    "version": 3
   },
   "file_extension": ".py",
   "mimetype": "text/x-python",
   "name": "python",
   "nbconvert_exporter": "python",
   "pygments_lexer": "ipython3",
   "version": "3.8.13"
  },
  "orig_nbformat": 4,
  "vscode": {
   "interpreter": {
    "hash": "110cc1dee26208153f2972f08a2ad52b6a56238dc66d48e87fb757ef2996db56"
   }
  }
 },
 "nbformat": 4,
 "nbformat_minor": 2
}
